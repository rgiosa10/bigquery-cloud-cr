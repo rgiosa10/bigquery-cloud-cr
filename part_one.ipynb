{
 "cells": [
  {
   "cell_type": "code",
   "execution_count": 2,
   "metadata": {},
   "outputs": [],
   "source": [
    "from google.cloud import bigquery\n",
    "import pandas as pd\n",
    "\n",
    "# Using Python, create a BigQuery client\n",
    "client = bigquery.Client()\n",
    "\n",
    "# In BigQuery using the console, in the project that the client connects to, created a new dataset called 'plants'."
   ]
  },
  {
   "cell_type": "markdown",
   "metadata": {},
   "source": [
    "Here is a snapshot of creating the dataset in BigQuery:\n",
    "![dataset_creation.png](/Users/Ruben/Desktop/bigquery-cloud-cr/images/dataset_creation.png)\n"
   ]
  },
  {
   "cell_type": "code",
   "execution_count": 3,
   "metadata": {},
   "outputs": [
    {
     "name": "stdout",
     "output_type": "stream",
     "text": [
      "BigQuery Project: deb-01-371820\n",
      "Listing datasets:\n",
      "dataset id: `FIFA_WC_1930_2018`, full_name: `deb-01-371820:FIFA_WC_1930_2018`, labels (tags): {}\n",
      "dataset id: `Soccer_int_matches`, full_name: `deb-01-371820:Soccer_int_matches`, labels (tags): {}\n",
      "dataset id: `US_bureau_lab_stat_2`, full_name: `deb-01-371820:US_bureau_lab_stat_2`, labels (tags): {}\n",
      "dataset id: `lego`, full_name: `deb-01-371820:lego`, labels (tags): {}\n",
      "dataset id: `mls_salaries`, full_name: `deb-01-371820:mls_salaries`, labels (tags): {}\n",
      "dataset id: `my_vinyls`, full_name: `deb-01-371820:my_vinyls`, labels (tags): {}\n",
      "dataset id: `plants`, full_name: `deb-01-371820:plants`, labels (tags): {}\n",
      "dataset id: `sf_bikeshare`, full_name: `deb-01-371820:sf_bikeshare`, labels (tags): {}\n",
      "dataset id: `streaming_catalog`, full_name: `deb-01-371820:streaming_catalog`, labels (tags): {}\n"
     ]
    }
   ],
   "source": [
    "# use the client to list the datasets in the BigQuery project. Confirm that the new 'plants' dataset is there.\n",
    "\n",
    "print(f\"BigQuery Project: {client.project}\")\n",
    "print(\"Listing datasets:\")\n",
    "for dataset in client.list_datasets():\n",
    "    dataset_id = dataset.dataset_id\n",
    "    print(f\"dataset id: `{dataset_id}`, full_name: `{dataset.full_dataset_id}`, labels (tags): {dataset.labels}\")\n",
    "\n",
    "# the plants dataset is seen in the print out below"
   ]
  },
  {
   "cell_type": "code",
   "execution_count": null,
   "metadata": {},
   "outputs": [],
   "source": [
    "# In a .sql file in the same repository as the Python code, write the SQL code that will create a table in the plants dataset called flower_shop. \n",
    "# Give it a schema and insert values into it.\n",
    "\n",
    "# ANSWER: Code is in the create_table.sql file "
   ]
  },
  {
   "cell_type": "markdown",
   "metadata": {},
   "source": [
    "Here is a snapshot of the code in `create_table.sql` ran in BigQuery to create table:\n",
    "\n",
    "![create_flower_shop_table.png](/Users/Ruben/Desktop/bigquery-cloud-cr/images/create_flower_shop_table.png)"
   ]
  },
  {
   "cell_type": "code",
   "execution_count": 4,
   "metadata": {},
   "outputs": [
    {
     "name": "stdout",
     "output_type": "stream",
     "text": [
      "table name: `flower_shop`, created at: 2022-12-23 17:17:24.714000+00:00\n",
      "plant_id\tINTEGER\n",
      "species_name\tSTRING\n",
      "variety_name\tSTRING\n",
      "zone\tINTEGER\n",
      "price\tFLOAT\n"
     ]
    }
   ],
   "source": [
    "# With .list_tables(), confirm new flower_shop table is there.\n",
    "\n",
    "dataset_ref = client.get_dataset(\"plants\")\n",
    "\n",
    "plants_tables = client.list_tables(dataset_ref)\n",
    "for table in plants_tables:\n",
    "    print(f\"table name: `{table.table_id}`, created at: {table.created}\")\n",
    "\n",
    "    # Went one more step to check that the schema was properly captured as well (with datatype assigned)\n",
    "    table_ref = client.get_table(table)\n",
    "    schema = table_ref.schema\n",
    "\n",
    "    for column in schema:\n",
    "        print(f\"{column.name}\\t{column.field_type}\")"
   ]
  }
 ],
 "metadata": {
  "kernelspec": {
   "display_name": "Python 3.7.9 ('venv': venv)",
   "language": "python",
   "name": "python3"
  },
  "language_info": {
   "codemirror_mode": {
    "name": "ipython",
    "version": 3
   },
   "file_extension": ".py",
   "mimetype": "text/x-python",
   "name": "python",
   "nbconvert_exporter": "python",
   "pygments_lexer": "ipython3",
   "version": "3.7.9"
  },
  "orig_nbformat": 4,
  "vscode": {
   "interpreter": {
    "hash": "e49342b248eb18b3242390c636e76535c4ff530b6265fcb8338df70d4580d9ec"
   }
  }
 },
 "nbformat": 4,
 "nbformat_minor": 2
}
