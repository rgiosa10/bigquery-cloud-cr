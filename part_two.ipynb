{
 "cells": [
  {
   "cell_type": "markdown",
   "metadata": {},
   "source": [
    "### Part 2\n",
    "\n",
    "The second part of the code review is fairly open-ended:\n",
    "\n",
    "* In BigQuery, select a public dataset that interests you, and copy it to your project.\n",
    "* Using Looker Studio, connect to the dataset and use it to make a visual.\n",
    "* Add the visual from Looker Studio to your README. In the README, include a short description of the dataset, and what the visual is showing.\n",
    "\n",
    "### Steps taken\n",
    "\n",
    "1. Found [US Inflation and Unemployment](https://console.cloud.google.com/marketplace/product/bls-public-data/cpi-unemployement?project=deb-01-371820) which I found interesting.\n",
    "2. Then I copied this to my project and began to query the data to understand what is available\n",
    "3. Identified annual average CPI over the course of multiple years to be interesting to see given the current economic climate. So I ran this query:\n",
    "   \n",
    "   ```sql\n",
    "    SELECT year, AVG(value) AS average_cpi\n",
    "    FROM `deb-01-371820.US_bureau_lab_stat_2.cpi_u`\n",
    "    GROUP BY year;\n",
    "    ```\n",
    "This isolated for the view of data that I was looking for in order to graph on a line graph:\n",
    "<br>\n",
    "![avg_cpi](/Users/Ruben/Desktop/bigquery-cloud-cr/images/avg_cpi.png)\n",
    "\n",
    "4. I then was curious to see if there was any correlation between the CPI data set and the Unemployment rate. So I ran the below query on the unemployment data:\n",
    "    ```sql\n",
    "    SELECT *\n",
    "    FROM `deb-01-371820.US_bureau_lab_stat_2.unemployment_cps`\n",
    "    WHERE series_title like \"(Seas) Unemployment Rate\" and period like \"Q%\"\n",
    "    ORDER BY year, period;\n",
    "    ```\n",
    "This gave me the unemployment rate by quarter for each of the years.\n",
    "\n",
    "5. Then I went to Looker and ran a Custom query to get the data in a similar format, as the CPI data:\n",
    "    ```sql\n",
    "    SELECT year, AVG(value) AS average_unemploy_rate \n",
    "    FROM `deb-01-371820.US_bureau_lab_stat_2.unemployment_cps`\n",
    "    WHERE series_title like \"(Seas) Unemployment Rate\" and period like \"Q%\"\n",
    "    GROUP BY year\n",
    "    ORDER BY year;\n",
    "    ```\n",
    "6. Once I had the data set imported to Looker I performed a `Blend Data` in Looker where I blended the data using an inner join functionality on the year field:\n",
    "![blend_data_looker.png](/Users/Ruben/Desktop/bigquery-cloud-cr/images/blend_data_looker.png)\n",
    "\n",
    "![blend_data_looker_2.png](/Users/Ruben/Desktop/bigquery-cloud-cr/images/data_blend_looker_2.png)\n",
    "\n",
    "\n",
    "\n",
    "\n",
    "\n"
   ]
  }
 ],
 "metadata": {
  "kernelspec": {
   "display_name": "Python 3.7.9 ('venv': venv)",
   "language": "python",
   "name": "python3"
  },
  "language_info": {
   "name": "python",
   "version": "3.7.9"
  },
  "orig_nbformat": 4,
  "vscode": {
   "interpreter": {
    "hash": "e49342b248eb18b3242390c636e76535c4ff530b6265fcb8338df70d4580d9ec"
   }
  }
 },
 "nbformat": 4,
 "nbformat_minor": 2
}
