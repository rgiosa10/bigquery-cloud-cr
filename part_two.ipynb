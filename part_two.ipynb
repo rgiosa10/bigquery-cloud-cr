{
 "cells": [
  {
   "cell_type": "markdown",
   "metadata": {},
   "source": [
    "### Part 2\n",
    "\n",
    "The second part of the code review is fairly open-ended:\n",
    "\n",
    "* In BigQuery, select a public dataset that interests you, and copy it to your project.\n",
    "* Using Looker Studio, connect to the dataset and use it to make a visual.\n",
    "* Add the visual from Looker Studio to your README. In the README, include a short description of the dataset, and what the visual is showing.\n",
    "\n",
    "### Steps taken\n",
    "\n",
    "1. Found [US Inflation and Unemployment](https://console.cloud.google.com/marketplace/product/bls-public-data/cpi-unemployement?project=deb-01-371820) which I found interesting.\n",
    "2. Then I copied this to my project and began to query the data to understand what is available\n",
    "3. Identified annual average CPI over the course of multiple years to be interesting to see given the current economic climate. So I ran this query:\n",
    "   \n",
    "   ```sql\n",
    "    SELECT year, AVG(value) AS average_cpi\n",
    "    FROM `deb-01-371820.US_bureau_lab_stat_2.cpi_u`\n",
    "    GROUP BY year;\n",
    "    ```\n",
    "This isolated for the view of data that I was looking for in order to graph on a line graph:\n",
    "<br>\n",
    "![avg_cpi](/Users/Ruben/Desktop/bigquery-cloud-cr/images/avg_cpi.png)\n",
    "\n"
   ]
  }
 ],
 "metadata": {
  "kernelspec": {
   "display_name": "Python 3.7.9 ('venv': venv)",
   "language": "python",
   "name": "python3"
  },
  "language_info": {
   "name": "python",
   "version": "3.7.9"
  },
  "orig_nbformat": 4,
  "vscode": {
   "interpreter": {
    "hash": "e49342b248eb18b3242390c636e76535c4ff530b6265fcb8338df70d4580d9ec"
   }
  }
 },
 "nbformat": 4,
 "nbformat_minor": 2
}
