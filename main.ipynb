{
 "cells": [
  {
   "cell_type": "code",
   "execution_count": 2,
   "metadata": {},
   "outputs": [],
   "source": [
    "from google.cloud import bigquery\n",
    "import pandas as pd\n",
    "\n",
    "# Using Python, create a BigQuery client\n",
    "client = bigquery.Client()\n",
    "\n",
    "# In BigQuery using the console, in the project that the client connects to, created a new dataset called 'plants'."
   ]
  },
  {
   "cell_type": "code",
   "execution_count": 4,
   "metadata": {},
   "outputs": [
    {
     "name": "stdout",
     "output_type": "stream",
     "text": [
      "BigQuery Project: deb-01-371820\n",
      "Listing datasets:\n",
      "dataset id: `FIFA_WC_1930_2018`, full_name: `deb-01-371820:FIFA_WC_1930_2018`, labels (tags): {}\n",
      "dataset id: `Soccer_int_matches`, full_name: `deb-01-371820:Soccer_int_matches`, labels (tags): {}\n",
      "dataset id: `lego`, full_name: `deb-01-371820:lego`, labels (tags): {}\n",
      "dataset id: `mls_salaries`, full_name: `deb-01-371820:mls_salaries`, labels (tags): {}\n",
      "dataset id: `my_vinyls`, full_name: `deb-01-371820:my_vinyls`, labels (tags): {}\n",
      "dataset id: `plants`, full_name: `deb-01-371820:plants`, labels (tags): {}\n",
      "dataset id: `sf_bikeshare`, full_name: `deb-01-371820:sf_bikeshare`, labels (tags): {}\n",
      "dataset id: `streaming_catalog`, full_name: `deb-01-371820:streaming_catalog`, labels (tags): {}\n"
     ]
    }
   ],
   "source": [
    "# use the client to list the datasets in the BigQuery project. Confirm that the new 'plants' dataset is there.\n",
    "\n",
    "print(f\"BigQuery Project: {client.project}\")\n",
    "print(\"Listing datasets:\")\n",
    "for dataset in client.list_datasets():\n",
    "    dataset_id = dataset.dataset_id\n",
    "    print(f\"dataset id: `{dataset_id}`, full_name: `{dataset.full_dataset_id}`, labels (tags): {dataset.labels}\")\n",
    "\n",
    "# the plants dataset is seen in the print out below"
   ]
  },
  {
   "cell_type": "code",
   "execution_count": 5,
   "metadata": {},
   "outputs": [
    {
     "name": "stdout",
     "output_type": "stream",
     "text": [
      "<google.api_core.page_iterator.HTTPIterator object at 0x7fc67a5aad50>\n"
     ]
    }
   ],
   "source": [
    "# In a .sql file in the same repository as the Python code, write the SQL code that will create a table in the plants dataset called flower_shop. \n",
    "# Give it a schema and insert values into it:\n",
    "\n",
    "schema = [\n",
    "    bigquery.SchemaField(\"plant_id\", \"INTEGER\", mode=\"REQUIRED\", description=\"unique plant ID\"),\n",
    "    bigquery.SchemaField(\"species_name\", \"STRING\", mode=\"REQUIRED\", description=\"the name of the plant species\"),\n",
    "    bigquery.SchemaField(\"variety_name\", \"STRING\", mode=\"NULLABLE\", description=\"name of variety of plant\"),\n",
    "    bigquery.SchemaField(\"zone\", \"INTEGER\", mode=\"NULLABLE\", description=\"zone where plant grows\"),\n",
    "    bigquery.SchemaField(\"price\", \"FLOAT\", mode=\"NULLABLE\", description=\"price of the plant\"),\n",
    "]\n",
    "\n",
    "project_id = \"deb-01-371820\"\n",
    "dataset_id = \"plants\"\n",
    "table_id = \"flower_shop\"\n",
    "full_table_id = f\"{project_id}.{dataset_id}.{table_id}\""
   ]
  }
 ],
 "metadata": {
  "kernelspec": {
   "display_name": "Python 3.7.9 ('venv': venv)",
   "language": "python",
   "name": "python3"
  },
  "language_info": {
   "codemirror_mode": {
    "name": "ipython",
    "version": 3
   },
   "file_extension": ".py",
   "mimetype": "text/x-python",
   "name": "python",
   "nbconvert_exporter": "python",
   "pygments_lexer": "ipython3",
   "version": "3.7.9"
  },
  "orig_nbformat": 4,
  "vscode": {
   "interpreter": {
    "hash": "e49342b248eb18b3242390c636e76535c4ff530b6265fcb8338df70d4580d9ec"
   }
  }
 },
 "nbformat": 4,
 "nbformat_minor": 2
}
